{
 "cells": [
  {
   "cell_type": "markdown",
   "metadata": {},
   "source": [
    "## Homework 1:\n",
    "\n",
    "1- Build a Keras Model for linear regression (check: https://keras.io/activations/). Use Boston Housing Dataset to train and test your model\n",
    "\n",
    "2- Build a Keras Model for logistic regression. Use diabetes.csv to train and test\n",
    "\n",
    "Comments:\n",
    "\n",
    "1- Build the **simplest model** for linear regression with Keras and compare your model performance with `from sklearn.linear_model import LinearRegression`\n",
    "\n",
    "2- Build the **simplest model** for logistic regression with Keras and compare your model performance with `from sklearn.linear_model import LogisticRegression`\n",
    "\n",
    "3- **Add more complexity to your models in (1) and (2)** and compare with previous results"
   ]
  },
  {
   "cell_type": "markdown",
   "metadata": {},
   "source": [
    "### Linear Regression using Boston Housing Dataset"
   ]
  },
  {
   "cell_type": "code",
   "execution_count": 8,
   "metadata": {
    "ExecuteTime": {
     "end_time": "2019-11-05T21:06:47.616393Z",
     "start_time": "2019-11-05T21:06:47.606519Z"
    }
   },
   "outputs": [
    {
     "name": "stdout",
     "output_type": "stream",
     "text": [
      ".. _boston_dataset:\n",
      "\n",
      "Boston house prices dataset\n",
      "---------------------------\n",
      "\n",
      "**Data Set Characteristics:**  \n",
      "\n",
      "    :Number of Instances: 506 \n",
      "\n",
      "    :Number of Attributes: 13 numeric/categorical predictive. Median Value (attribute 14) is usually the target.\n",
      "\n",
      "    :Attribute Information (in order):\n",
      "        - CRIM     per capita crime rate by town\n",
      "        - ZN       proportion of residential land zoned for lots over 25,000 sq.ft.\n",
      "        - INDUS    proportion of non-retail business acres per town\n",
      "        - CHAS     Charles River dummy variable (= 1 if tract bounds river; 0 otherwise)\n",
      "        - NOX      nitric oxides concentration (parts per 10 million)\n",
      "        - RM       average number of rooms per dwelling\n",
      "        - AGE      proportion of owner-occupied units built prior to 1940\n",
      "        - DIS      weighted distances to five Boston employment centres\n",
      "        - RAD      index of accessibility to radial highways\n",
      "        - TAX      full-value property-tax rate per $10,000\n",
      "        - PTRATIO  pupil-teacher ratio by town\n",
      "        - B        1000(Bk - 0.63)^2 where Bk is the proportion of blacks by town\n",
      "        - LSTAT    % lower status of the population\n",
      "        - MEDV     Median value of owner-occupied homes in $1000's\n",
      "\n",
      "    :Missing Attribute Values: None\n",
      "\n",
      "    :Creator: Harrison, D. and Rubinfeld, D.L.\n",
      "\n",
      "This is a copy of UCI ML housing dataset.\n",
      "https://archive.ics.uci.edu/ml/machine-learning-databases/housing/\n",
      "\n",
      "\n",
      "This dataset was taken from the StatLib library which is maintained at Carnegie Mellon University.\n",
      "\n",
      "The Boston house-price data of Harrison, D. and Rubinfeld, D.L. 'Hedonic\n",
      "prices and the demand for clean air', J. Environ. Economics & Management,\n",
      "vol.5, 81-102, 1978.   Used in Belsley, Kuh & Welsch, 'Regression diagnostics\n",
      "...', Wiley, 1980.   N.B. Various transformations are used in the table on\n",
      "pages 244-261 of the latter.\n",
      "\n",
      "The Boston house-price data has been used in many machine learning papers that address regression\n",
      "problems.   \n",
      "     \n",
      ".. topic:: References\n",
      "\n",
      "   - Belsley, Kuh & Welsch, 'Regression diagnostics: Identifying Influential Data and Sources of Collinearity', Wiley, 1980. 244-261.\n",
      "   - Quinlan,R. (1993). Combining Instance-Based and Model-Based Learning. In Proceedings on the Tenth International Conference of Machine Learning, 236-243, University of Massachusetts, Amherst. Morgan Kaufmann.\n",
      "\n"
     ]
    }
   ],
   "source": [
    "import sklearn\n",
    "import numpy as np\n",
    "import pandas as pd\n",
    "from sklearn.datasets import load_boston\n",
    "from sklearn.metrics import r2_score\n",
    "from sklearn.preprocessing import MinMaxScaler\n",
    "from sklearn.preprocessing import StandardScaler\n",
    "\n",
    "boston = load_boston()\n",
    "print(boston.DESCR)"
   ]
  },
  {
   "cell_type": "code",
   "execution_count": 9,
   "metadata": {
    "ExecuteTime": {
     "end_time": "2019-11-05T21:06:48.068236Z",
     "start_time": "2019-11-05T21:06:48.056489Z"
    }
   },
   "outputs": [],
   "source": [
    "bos = pd.DataFrame(boston.data)\n",
    "bos.columns = boston.feature_names\n",
    "bos['PRICE'] = boston.target\n",
    "\n",
    "X = bos.drop('PRICE', axis = 1)\n",
    "y = bos['PRICE']\n",
    "\n",
    "import sklearn.model_selection\n",
    "X_train, X_test, y_train, y_test = sklearn.model_selection.train_test_split(X, y, test_size = 0.33, random_state = 5)\n",
    "\n",
    "scaler = StandardScaler()\n",
    "# scaler = MinMaxScaler()\n",
    "X_train = scaler.fit_transform(X_train)\n",
    "X_test = scaler.transform(X_test)\n"
   ]
  },
  {
   "cell_type": "markdown",
   "metadata": {
    "ExecuteTime": {
     "end_time": "2019-11-05T20:27:52.546732Z",
     "start_time": "2019-11-05T20:27:52.544772Z"
    }
   },
   "source": [
    "#### Linear Regression using ML/SciKit Learn"
   ]
  },
  {
   "cell_type": "code",
   "execution_count": 10,
   "metadata": {
    "ExecuteTime": {
     "end_time": "2019-11-05T21:29:42.169005Z",
     "start_time": "2019-11-05T21:29:42.160154Z"
    }
   },
   "outputs": [
    {
     "name": "stdout",
     "output_type": "stream",
     "text": [
      "r^2:  0.6956551656111603\n",
      "MSE:  28.530458765974625\n"
     ]
    }
   ],
   "source": [
    "from sklearn.linear_model import LinearRegression\n",
    "from sklearn.metrics import mean_squared_error\n",
    "\n",
    "lm = LinearRegression()\n",
    "\n",
    "lm.fit(X_train, y_train)\n",
    "\n",
    "y_pred = lm.predict(X_test)\n",
    "\n",
    "r2 = r2_score(y_test, y_pred)\n",
    "mse = mean_squared_error(y_test, y_pred) \n",
    "print(f'r^2:  {r2}')\n",
    "print(f'MSE:  {mse}')\n",
    "ml_y_pred = lm.predict(X_test)"
   ]
  },
  {
   "cell_type": "markdown",
   "metadata": {},
   "source": [
    "#### Linear Regression Using NN/Keras"
   ]
  },
  {
   "cell_type": "code",
   "execution_count": 11,
   "metadata": {
    "ExecuteTime": {
     "end_time": "2019-11-05T21:06:49.960386Z",
     "start_time": "2019-11-05T21:06:49.957278Z"
    }
   },
   "outputs": [],
   "source": [
    "# Build linreg model using keras\n",
    "from keras.models import Sequential\n",
    "from keras.layers.core import Dense, Activation\n",
    "from keras.utils import np_utils\n",
    "from sklearn.preprocessing import LabelEncoder"
   ]
  },
  {
   "cell_type": "code",
   "execution_count": 37,
   "metadata": {
    "scrolled": true
   },
   "outputs": [
    {
     "name": "stderr",
     "output_type": "stream",
     "text": [
      "/Users/drew/anaconda3/lib/python3.7/site-packages/ipykernel_launcher.py:4: UserWarning: The `nb_epoch` argument in `fit` has been renamed `epochs`.\n",
      "  after removing the cwd from sys.path.\n"
     ]
    },
    {
     "name": "stdout",
     "output_type": "stream",
     "text": [
      "Epoch 1/200\n",
      "576/576 [==============================] - 0s 372us/step - loss: 5524.2151 - accuracy: 0.0000e+00\n",
      "Epoch 2/200\n",
      "576/576 [==============================] - 0s 32us/step - loss: 4986.5616 - accuracy: 0.0000e+00\n",
      "Epoch 3/200\n",
      "576/576 [==============================] - 0s 35us/step - loss: 4528.0114 - accuracy: 0.0000e+00\n",
      "Epoch 4/200\n",
      "576/576 [==============================] - 0s 35us/step - loss: 4101.6670 - accuracy: 0.0000e+00\n",
      "Epoch 5/200\n",
      "576/576 [==============================] - 0s 33us/step - loss: 3702.7662 - accuracy: 0.0000e+00\n",
      "Epoch 6/200\n",
      "576/576 [==============================] - 0s 36us/step - loss: 3326.1604 - accuracy: 0.0000e+00\n",
      "Epoch 7/200\n",
      "576/576 [==============================] - 0s 36us/step - loss: 2965.0587 - accuracy: 0.0000e+00\n",
      "Epoch 8/200\n",
      "576/576 [==============================] - 0s 36us/step - loss: 2632.4462 - accuracy: 0.0000e+00\n",
      "Epoch 9/200\n",
      "576/576 [==============================] - 0s 36us/step - loss: 2319.2835 - accuracy: 0.0000e+00\n",
      "Epoch 10/200\n",
      "576/576 [==============================] - 0s 37us/step - loss: 2017.4944 - accuracy: 0.0000e+00\n",
      "Epoch 11/200\n",
      "576/576 [==============================] - 0s 36us/step - loss: 1745.9879 - accuracy: 0.0000e+00\n",
      "Epoch 12/200\n",
      "576/576 [==============================] - 0s 36us/step - loss: 1499.7850 - accuracy: 0.0000e+00\n",
      "Epoch 13/200\n",
      "576/576 [==============================] - 0s 35us/step - loss: 1266.6575 - accuracy: 0.0000e+00\n",
      "Epoch 14/200\n",
      "576/576 [==============================] - 0s 36us/step - loss: 1062.1219 - accuracy: 0.0000e+00\n",
      "Epoch 15/200\n",
      "576/576 [==============================] - 0s 35us/step - loss: 878.6360 - accuracy: 0.0000e+00\n",
      "Epoch 16/200\n",
      "576/576 [==============================] - 0s 36us/step - loss: 715.4295 - accuracy: 0.0000e+00\n",
      "Epoch 17/200\n",
      "576/576 [==============================] - 0s 35us/step - loss: 572.4449 - accuracy: 0.0000e+00\n",
      "Epoch 18/200\n",
      "576/576 [==============================] - 0s 34us/step - loss: 448.6638 - accuracy: 0.0000e+00\n",
      "Epoch 19/200\n",
      "576/576 [==============================] - 0s 35us/step - loss: 347.6142 - accuracy: 0.0000e+00\n",
      "Epoch 20/200\n",
      "576/576 [==============================] - 0s 36us/step - loss: 266.6107 - accuracy: 0.0000e+00\n",
      "Epoch 21/200\n",
      "576/576 [==============================] - 0s 34us/step - loss: 204.1740 - accuracy: 0.0087\n",
      "Epoch 22/200\n",
      "576/576 [==============================] - 0s 33us/step - loss: 159.9267 - accuracy: 0.0000e+00\n",
      "Epoch 23/200\n",
      "576/576 [==============================] - 0s 36us/step - loss: 130.6673 - accuracy: 0.0122\n",
      "Epoch 24/200\n",
      "576/576 [==============================] - 0s 37us/step - loss: 110.5507 - accuracy: 0.0226\n",
      "Epoch 25/200\n",
      "576/576 [==============================] - 0s 36us/step - loss: 92.8906 - accuracy: 0.0347\n",
      "Epoch 26/200\n",
      "576/576 [==============================] - 0s 41us/step - loss: 76.9587 - accuracy: 0.0330\n",
      "Epoch 27/200\n",
      "576/576 [==============================] - 0s 36us/step - loss: 63.2248 - accuracy: 0.0417\n",
      "Epoch 28/200\n",
      "576/576 [==============================] - 0s 37us/step - loss: 51.1970 - accuracy: 0.0538\n",
      "Epoch 29/200\n",
      "576/576 [==============================] - 0s 39us/step - loss: 40.9250 - accuracy: 0.0590\n",
      "Epoch 30/200\n",
      "576/576 [==============================] - 0s 35us/step - loss: 32.5528 - accuracy: 0.0538\n",
      "Epoch 31/200\n",
      "576/576 [==============================] - 0s 36us/step - loss: 26.1912 - accuracy: 0.1024\n",
      "Epoch 32/200\n",
      "576/576 [==============================] - 0s 35us/step - loss: 21.4686 - accuracy: 0.1128\n",
      "Epoch 33/200\n",
      "576/576 [==============================] - 0s 35us/step - loss: 18.3973 - accuracy: 0.1215\n",
      "Epoch 34/200\n",
      "576/576 [==============================] - 0s 36us/step - loss: 16.3846 - accuracy: 0.1406\n",
      "Epoch 35/200\n",
      "576/576 [==============================] - 0s 38us/step - loss: 15.2152 - accuracy: 0.1372\n",
      "Epoch 36/200\n",
      "576/576 [==============================] - 0s 37us/step - loss: 14.4638 - accuracy: 0.1424\n",
      "Epoch 37/200\n",
      "576/576 [==============================] - 0s 38us/step - loss: 13.8100 - accuracy: 0.1406\n",
      "Epoch 38/200\n",
      "576/576 [==============================] - 0s 36us/step - loss: 13.2823 - accuracy: 0.1545\n",
      "Epoch 39/200\n",
      "576/576 [==============================] - 0s 36us/step - loss: 12.7815 - accuracy: 0.1458\n",
      "Epoch 40/200\n",
      "576/576 [==============================] - 0s 36us/step - loss: 12.2588 - accuracy: 0.1510\n",
      "Epoch 41/200\n",
      "576/576 [==============================] - 0s 35us/step - loss: 11.7999 - accuracy: 0.1493\n",
      "Epoch 42/200\n",
      "576/576 [==============================] - 0s 36us/step - loss: 11.3440 - accuracy: 0.1528\n",
      "Epoch 43/200\n",
      "576/576 [==============================] - 0s 37us/step - loss: 10.9310 - accuracy: 0.1580\n",
      "Epoch 44/200\n",
      "576/576 [==============================] - 0s 36us/step - loss: 10.5142 - accuracy: 0.1545\n",
      "Epoch 45/200\n",
      "576/576 [==============================] - 0s 35us/step - loss: 10.0896 - accuracy: 0.1545\n",
      "Epoch 46/200\n",
      "576/576 [==============================] - 0s 38us/step - loss: 9.7694 - accuracy: 0.1615\n",
      "Epoch 47/200\n",
      "576/576 [==============================] - 0s 37us/step - loss: 9.4094 - accuracy: 0.1493\n",
      "Epoch 48/200\n",
      "576/576 [==============================] - 0s 36us/step - loss: 9.0653 - accuracy: 0.1684\n",
      "Epoch 49/200\n",
      "576/576 [==============================] - 0s 36us/step - loss: 8.7593 - accuracy: 0.1719\n",
      "Epoch 50/200\n",
      "576/576 [==============================] - 0s 34us/step - loss: 8.4123 - accuracy: 0.1719\n",
      "Epoch 51/200\n",
      "576/576 [==============================] - 0s 39us/step - loss: 8.0769 - accuracy: 0.1701\n",
      "Epoch 52/200\n",
      "576/576 [==============================] - 0s 36us/step - loss: 7.8270 - accuracy: 0.1806\n",
      "Epoch 53/200\n",
      "576/576 [==============================] - 0s 36us/step - loss: 7.5199 - accuracy: 0.1771\n",
      "Epoch 54/200\n",
      "576/576 [==============================] - 0s 38us/step - loss: 7.1981 - accuracy: 0.1806\n",
      "Epoch 55/200\n",
      "576/576 [==============================] - 0s 36us/step - loss: 6.9529 - accuracy: 0.1788\n",
      "Epoch 56/200\n",
      "576/576 [==============================] - 0s 37us/step - loss: 6.6364 - accuracy: 0.1892\n",
      "Epoch 57/200\n",
      "576/576 [==============================] - 0s 37us/step - loss: 6.4121 - accuracy: 0.1788\n",
      "Epoch 58/200\n",
      "576/576 [==============================] - 0s 37us/step - loss: 6.1263 - accuracy: 0.1910\n",
      "Epoch 59/200\n",
      "576/576 [==============================] - 0s 34us/step - loss: 5.9133 - accuracy: 0.1979\n",
      "Epoch 60/200\n",
      "576/576 [==============================] - 0s 38us/step - loss: 5.6650 - accuracy: 0.1806\n",
      "Epoch 61/200\n",
      "576/576 [==============================] - 0s 36us/step - loss: 5.4163 - accuracy: 0.1944\n",
      "Epoch 62/200\n",
      "576/576 [==============================] - 0s 35us/step - loss: 5.2163 - accuracy: 0.2066\n",
      "Epoch 63/200\n",
      "576/576 [==============================] - 0s 36us/step - loss: 5.0236 - accuracy: 0.2066\n",
      "Epoch 64/200\n",
      "576/576 [==============================] - 0s 37us/step - loss: 4.7849 - accuracy: 0.2066\n",
      "Epoch 65/200\n",
      "576/576 [==============================] - 0s 36us/step - loss: 4.5889 - accuracy: 0.2257\n",
      "Epoch 66/200\n",
      "576/576 [==============================] - 0s 37us/step - loss: 4.4011 - accuracy: 0.2101\n",
      "Epoch 67/200\n",
      "576/576 [==============================] - 0s 36us/step - loss: 4.2230 - accuracy: 0.2274\n",
      "Epoch 68/200\n",
      "576/576 [==============================] - 0s 36us/step - loss: 4.0192 - accuracy: 0.2240\n",
      "Epoch 69/200\n",
      "576/576 [==============================] - 0s 37us/step - loss: 3.8205 - accuracy: 0.2309\n",
      "Epoch 70/200\n",
      "576/576 [==============================] - 0s 36us/step - loss: 3.6729 - accuracy: 0.2361\n",
      "Epoch 71/200\n",
      "576/576 [==============================] - 0s 34us/step - loss: 3.4999 - accuracy: 0.2535\n",
      "Epoch 72/200\n",
      "576/576 [==============================] - 0s 37us/step - loss: 3.3437 - accuracy: 0.2535\n",
      "Epoch 73/200\n",
      "576/576 [==============================] - 0s 36us/step - loss: 3.1610 - accuracy: 0.2344\n",
      "Epoch 74/200\n",
      "576/576 [==============================] - 0s 35us/step - loss: 3.0227 - accuracy: 0.2587\n",
      "Epoch 75/200\n",
      "576/576 [==============================] - 0s 36us/step - loss: 2.8738 - accuracy: 0.2517\n",
      "Epoch 76/200\n",
      "576/576 [==============================] - 0s 36us/step - loss: 2.7188 - accuracy: 0.2552\n",
      "Epoch 77/200\n",
      "576/576 [==============================] - 0s 35us/step - loss: 2.5901 - accuracy: 0.2795\n",
      "Epoch 78/200\n",
      "576/576 [==============================] - 0s 36us/step - loss: 2.4433 - accuracy: 0.2830\n"
     ]
    },
    {
     "name": "stdout",
     "output_type": "stream",
     "text": [
      "Epoch 79/200\n",
      "576/576 [==============================] - 0s 36us/step - loss: 2.3022 - accuracy: 0.2778\n",
      "Epoch 80/200\n",
      "576/576 [==============================] - 0s 34us/step - loss: 2.1690 - accuracy: 0.2899\n",
      "Epoch 81/200\n",
      "576/576 [==============================] - 0s 35us/step - loss: 2.0607 - accuracy: 0.2934\n",
      "Epoch 82/200\n",
      "576/576 [==============================] - 0s 37us/step - loss: 1.9248 - accuracy: 0.2882\n",
      "Epoch 83/200\n",
      "576/576 [==============================] - 0s 35us/step - loss: 1.8002 - accuracy: 0.3056\n",
      "Epoch 84/200\n",
      "576/576 [==============================] - 0s 33us/step - loss: 1.6983 - accuracy: 0.3142\n",
      "Epoch 85/200\n",
      "576/576 [==============================] - 0s 36us/step - loss: 1.6113 - accuracy: 0.3368\n",
      "Epoch 86/200\n",
      "576/576 [==============================] - 0s 35us/step - loss: 1.4853 - accuracy: 0.3542\n",
      "Epoch 87/200\n",
      "576/576 [==============================] - 0s 35us/step - loss: 1.3905 - accuracy: 0.3663\n",
      "Epoch 88/200\n",
      "576/576 [==============================] - 0s 36us/step - loss: 1.2963 - accuracy: 0.3490\n",
      "Epoch 89/200\n",
      "576/576 [==============================] - 0s 35us/step - loss: 1.1809 - accuracy: 0.3872\n",
      "Epoch 90/200\n",
      "576/576 [==============================] - 0s 35us/step - loss: 1.1202 - accuracy: 0.3924\n",
      "Epoch 91/200\n",
      "576/576 [==============================] - 0s 35us/step - loss: 1.0395 - accuracy: 0.3767\n",
      "Epoch 92/200\n",
      "576/576 [==============================] - 0s 36us/step - loss: 0.9639 - accuracy: 0.3941\n",
      "Epoch 93/200\n",
      "576/576 [==============================] - 0s 35us/step - loss: 0.8905 - accuracy: 0.4219\n",
      "Epoch 94/200\n",
      "576/576 [==============================] - 0s 34us/step - loss: 0.8048 - accuracy: 0.4479\n",
      "Epoch 95/200\n",
      "576/576 [==============================] - 0s 35us/step - loss: 0.7522 - accuracy: 0.4514\n",
      "Epoch 96/200\n",
      "576/576 [==============================] - 0s 37us/step - loss: 0.6861 - accuracy: 0.4861\n",
      "Epoch 97/200\n",
      "576/576 [==============================] - 0s 35us/step - loss: 0.6232 - accuracy: 0.4983\n",
      "Epoch 98/200\n",
      "576/576 [==============================] - 0s 35us/step - loss: 0.5811 - accuracy: 0.5295\n",
      "Epoch 99/200\n",
      "576/576 [==============================] - 0s 35us/step - loss: 0.5252 - accuracy: 0.5330\n",
      "Epoch 100/200\n",
      "576/576 [==============================] - 0s 36us/step - loss: 0.4803 - accuracy: 0.5729\n",
      "Epoch 101/200\n",
      "576/576 [==============================] - 0s 35us/step - loss: 0.4371 - accuracy: 0.5573\n",
      "Epoch 102/200\n",
      "576/576 [==============================] - 0s 35us/step - loss: 0.3995 - accuracy: 0.5990\n",
      "Epoch 103/200\n",
      "576/576 [==============================] - 0s 35us/step - loss: 0.3574 - accuracy: 0.6111\n",
      "Epoch 104/200\n",
      "576/576 [==============================] - 0s 33us/step - loss: 0.3422 - accuracy: 0.6076\n",
      "Epoch 105/200\n",
      "576/576 [==============================] - 0s 35us/step - loss: 0.3078 - accuracy: 0.6337\n",
      "Epoch 106/200\n",
      "576/576 [==============================] - 0s 35us/step - loss: 0.2867 - accuracy: 0.6441\n",
      "Epoch 107/200\n",
      "576/576 [==============================] - 0s 36us/step - loss: 0.2787 - accuracy: 0.6406\n",
      "Epoch 108/200\n",
      "576/576 [==============================] - 0s 36us/step - loss: 0.2590 - accuracy: 0.6615\n",
      "Epoch 109/200\n",
      "576/576 [==============================] - 0s 36us/step - loss: 0.2419 - accuracy: 0.6441\n",
      "Epoch 110/200\n",
      "576/576 [==============================] - 0s 36us/step - loss: 0.2310 - accuracy: 0.6736\n",
      "Epoch 111/200\n",
      "576/576 [==============================] - 0s 37us/step - loss: 0.2283 - accuracy: 0.6649\n",
      "Epoch 112/200\n",
      "576/576 [==============================] - 0s 37us/step - loss: 0.2283 - accuracy: 0.6510\n",
      "Epoch 113/200\n",
      "576/576 [==============================] - 0s 35us/step - loss: 0.2120 - accuracy: 0.6562\n",
      "Epoch 114/200\n",
      "576/576 [==============================] - 0s 38us/step - loss: 0.2164 - accuracy: 0.6649\n",
      "Epoch 115/200\n",
      "576/576 [==============================] - 0s 39us/step - loss: 0.2119 - accuracy: 0.6875\n",
      "Epoch 116/200\n",
      "576/576 [==============================] - 0s 35us/step - loss: 0.2061 - accuracy: 0.6788\n",
      "Epoch 117/200\n",
      "576/576 [==============================] - 0s 36us/step - loss: 0.2124 - accuracy: 0.6667\n",
      "Epoch 118/200\n",
      "576/576 [==============================] - 0s 37us/step - loss: 0.2163 - accuracy: 0.6667\n",
      "Epoch 119/200\n",
      "576/576 [==============================] - 0s 37us/step - loss: 0.2028 - accuracy: 0.6771\n",
      "Epoch 120/200\n",
      "576/576 [==============================] - 0s 37us/step - loss: 0.2064 - accuracy: 0.6875\n",
      "Epoch 121/200\n",
      "576/576 [==============================] - 0s 37us/step - loss: 0.2125 - accuracy: 0.6771\n",
      "Epoch 122/200\n",
      "576/576 [==============================] - 0s 35us/step - loss: 0.2064 - accuracy: 0.6736\n",
      "Epoch 123/200\n",
      "576/576 [==============================] - 0s 36us/step - loss: 0.2049 - accuracy: 0.6788\n",
      "Epoch 124/200\n",
      "576/576 [==============================] - 0s 35us/step - loss: 0.2091 - accuracy: 0.6649\n",
      "Epoch 125/200\n",
      "576/576 [==============================] - 0s 34us/step - loss: 0.2131 - accuracy: 0.6597\n",
      "Epoch 126/200\n",
      "576/576 [==============================] - 0s 36us/step - loss: 0.2049 - accuracy: 0.6788\n",
      "Epoch 127/200\n",
      "576/576 [==============================] - 0s 36us/step - loss: 0.2112 - accuracy: 0.6753\n",
      "Epoch 128/200\n",
      "576/576 [==============================] - 0s 38us/step - loss: 0.2076 - accuracy: 0.6684\n",
      "Epoch 129/200\n",
      "576/576 [==============================] - 0s 37us/step - loss: 0.2053 - accuracy: 0.6910\n",
      "Epoch 130/200\n",
      "576/576 [==============================] - 0s 40us/step - loss: 0.2146 - accuracy: 0.6667\n",
      "Epoch 131/200\n",
      "576/576 [==============================] - 0s 34us/step - loss: 0.2039 - accuracy: 0.6632\n",
      "Epoch 132/200\n",
      "576/576 [==============================] - 0s 39us/step - loss: 0.2076 - accuracy: 0.6736\n",
      "Epoch 133/200\n",
      "576/576 [==============================] - 0s 37us/step - loss: 0.2083 - accuracy: 0.6806\n",
      "Epoch 134/200\n",
      "576/576 [==============================] - 0s 37us/step - loss: 0.1938 - accuracy: 0.6997\n",
      "Epoch 135/200\n",
      "576/576 [==============================] - 0s 37us/step - loss: 0.2072 - accuracy: 0.6823\n",
      "Epoch 136/200\n",
      "576/576 [==============================] - 0s 36us/step - loss: 0.2082 - accuracy: 0.6597\n",
      "Epoch 137/200\n",
      "576/576 [==============================] - 0s 39us/step - loss: 0.2080 - accuracy: 0.6875\n",
      "Epoch 138/200\n",
      "576/576 [==============================] - 0s 37us/step - loss: 0.2064 - accuracy: 0.6736\n",
      "Epoch 139/200\n",
      "576/576 [==============================] - 0s 37us/step - loss: 0.2094 - accuracy: 0.6667\n",
      "Epoch 140/200\n",
      "576/576 [==============================] - 0s 36us/step - loss: 0.2087 - accuracy: 0.6736\n",
      "Epoch 141/200\n",
      "576/576 [==============================] - 0s 37us/step - loss: 0.2053 - accuracy: 0.6736\n",
      "Epoch 142/200\n",
      "576/576 [==============================] - 0s 37us/step - loss: 0.2063 - accuracy: 0.6753\n",
      "Epoch 143/200\n",
      "576/576 [==============================] - 0s 36us/step - loss: 0.2097 - accuracy: 0.6806\n",
      "Epoch 144/200\n",
      "576/576 [==============================] - 0s 36us/step - loss: 0.2161 - accuracy: 0.6771\n",
      "Epoch 145/200\n",
      "576/576 [==============================] - 0s 37us/step - loss: 0.2051 - accuracy: 0.6771\n",
      "Epoch 146/200\n",
      "576/576 [==============================] - 0s 36us/step - loss: 0.2114 - accuracy: 0.6806\n",
      "Epoch 147/200\n",
      "576/576 [==============================] - 0s 37us/step - loss: 0.2048 - accuracy: 0.6962\n",
      "Epoch 148/200\n",
      "576/576 [==============================] - 0s 36us/step - loss: 0.2038 - accuracy: 0.6910\n",
      "Epoch 149/200\n",
      "576/576 [==============================] - 0s 35us/step - loss: 0.2089 - accuracy: 0.6771\n",
      "Epoch 150/200\n",
      "576/576 [==============================] - 0s 38us/step - loss: 0.2136 - accuracy: 0.6562\n",
      "Epoch 151/200\n",
      "576/576 [==============================] - 0s 36us/step - loss: 0.2061 - accuracy: 0.6910\n",
      "Epoch 152/200\n",
      "576/576 [==============================] - 0s 35us/step - loss: 0.2084 - accuracy: 0.6684\n",
      "Epoch 153/200\n",
      "576/576 [==============================] - 0s 36us/step - loss: 0.2121 - accuracy: 0.6788\n",
      "Epoch 154/200\n",
      "576/576 [==============================] - 0s 37us/step - loss: 0.2115 - accuracy: 0.6580\n",
      "Epoch 155/200\n",
      "576/576 [==============================] - 0s 36us/step - loss: 0.2021 - accuracy: 0.6875\n",
      "Epoch 156/200\n",
      "576/576 [==============================] - 0s 36us/step - loss: 0.2145 - accuracy: 0.6580\n",
      "Epoch 157/200\n",
      "576/576 [==============================] - 0s 36us/step - loss: 0.1969 - accuracy: 0.6771\n"
     ]
    },
    {
     "name": "stdout",
     "output_type": "stream",
     "text": [
      "Epoch 158/200\n",
      "576/576 [==============================] - 0s 37us/step - loss: 0.2081 - accuracy: 0.6823\n",
      "Epoch 159/200\n",
      "576/576 [==============================] - 0s 35us/step - loss: 0.2062 - accuracy: 0.6840\n",
      "Epoch 160/200\n",
      "576/576 [==============================] - 0s 39us/step - loss: 0.2124 - accuracy: 0.6823\n",
      "Epoch 161/200\n",
      "576/576 [==============================] - 0s 36us/step - loss: 0.2052 - accuracy: 0.6910\n",
      "Epoch 162/200\n",
      "576/576 [==============================] - 0s 34us/step - loss: 0.2068 - accuracy: 0.6806\n",
      "Epoch 163/200\n",
      "576/576 [==============================] - 0s 46us/step - loss: 0.2121 - accuracy: 0.6753\n",
      "Epoch 164/200\n",
      "576/576 [==============================] - 0s 38us/step - loss: 0.2074 - accuracy: 0.6753\n",
      "Epoch 165/200\n",
      "576/576 [==============================] - 0s 35us/step - loss: 0.2015 - accuracy: 0.6823\n",
      "Epoch 166/200\n",
      "576/576 [==============================] - 0s 34us/step - loss: 0.2113 - accuracy: 0.6788\n",
      "Epoch 167/200\n",
      "576/576 [==============================] - 0s 35us/step - loss: 0.2027 - accuracy: 0.6979\n",
      "Epoch 168/200\n",
      "576/576 [==============================] - 0s 36us/step - loss: 0.2091 - accuracy: 0.6701\n",
      "Epoch 169/200\n",
      "576/576 [==============================] - 0s 35us/step - loss: 0.2044 - accuracy: 0.6788\n",
      "Epoch 170/200\n",
      "576/576 [==============================] - 0s 36us/step - loss: 0.2053 - accuracy: 0.6840\n",
      "Epoch 171/200\n",
      "576/576 [==============================] - 0s 35us/step - loss: 0.2091 - accuracy: 0.6719\n",
      "Epoch 172/200\n",
      "576/576 [==============================] - 0s 38us/step - loss: 0.2024 - accuracy: 0.6771\n",
      "Epoch 173/200\n",
      "576/576 [==============================] - 0s 39us/step - loss: 0.2143 - accuracy: 0.6493\n",
      "Epoch 174/200\n",
      "576/576 [==============================] - 0s 37us/step - loss: 0.2029 - accuracy: 0.6788\n",
      "Epoch 175/200\n",
      "576/576 [==============================] - 0s 37us/step - loss: 0.2086 - accuracy: 0.6806\n",
      "Epoch 176/200\n",
      "576/576 [==============================] - 0s 38us/step - loss: 0.2045 - accuracy: 0.6875\n",
      "Epoch 177/200\n",
      "576/576 [==============================] - 0s 37us/step - loss: 0.2082 - accuracy: 0.6753\n",
      "Epoch 178/200\n",
      "576/576 [==============================] - 0s 34us/step - loss: 0.2117 - accuracy: 0.6979\n",
      "Epoch 179/200\n",
      "576/576 [==============================] - 0s 34us/step - loss: 0.2034 - accuracy: 0.6875\n",
      "Epoch 180/200\n",
      "576/576 [==============================] - 0s 37us/step - loss: 0.2104 - accuracy: 0.6771\n",
      "Epoch 181/200\n",
      "576/576 [==============================] - 0s 37us/step - loss: 0.2086 - accuracy: 0.6701\n",
      "Epoch 182/200\n",
      "576/576 [==============================] - 0s 36us/step - loss: 0.2005 - accuracy: 0.6875\n",
      "Epoch 183/200\n",
      "576/576 [==============================] - 0s 36us/step - loss: 0.1998 - accuracy: 0.6858\n",
      "Epoch 184/200\n",
      "576/576 [==============================] - 0s 36us/step - loss: 0.2063 - accuracy: 0.6788\n",
      "Epoch 185/200\n",
      "576/576 [==============================] - 0s 35us/step - loss: 0.2031 - accuracy: 0.6753\n",
      "Epoch 186/200\n",
      "576/576 [==============================] - 0s 40us/step - loss: 0.1961 - accuracy: 0.6875\n",
      "Epoch 187/200\n",
      "576/576 [==============================] - 0s 36us/step - loss: 0.2150 - accuracy: 0.6788\n",
      "Epoch 188/200\n",
      "576/576 [==============================] - 0s 34us/step - loss: 0.2036 - accuracy: 0.6701\n",
      "Epoch 189/200\n",
      "576/576 [==============================] - 0s 38us/step - loss: 0.2073 - accuracy: 0.6597\n",
      "Epoch 190/200\n",
      "576/576 [==============================] - 0s 39us/step - loss: 0.2072 - accuracy: 0.6684\n",
      "Epoch 191/200\n",
      "576/576 [==============================] - 0s 36us/step - loss: 0.2012 - accuracy: 0.7031\n",
      "Epoch 192/200\n",
      "576/576 [==============================] - 0s 39us/step - loss: 0.2001 - accuracy: 0.6910\n",
      "Epoch 193/200\n",
      "576/576 [==============================] - 0s 36us/step - loss: 0.2058 - accuracy: 0.6684\n",
      "Epoch 194/200\n",
      "576/576 [==============================] - 0s 38us/step - loss: 0.2068 - accuracy: 0.6771\n",
      "Epoch 195/200\n",
      "576/576 [==============================] - 0s 37us/step - loss: 0.2093 - accuracy: 0.6788\n",
      "Epoch 196/200\n",
      "576/576 [==============================] - 0s 38us/step - loss: 0.2139 - accuracy: 0.6580\n",
      "Epoch 197/200\n",
      "576/576 [==============================] - 0s 40us/step - loss: 0.1962 - accuracy: 0.6840\n",
      "Epoch 198/200\n",
      "576/576 [==============================] - 0s 40us/step - loss: 0.2126 - accuracy: 0.6667\n",
      "Epoch 199/200\n",
      "576/576 [==============================] - 0s 38us/step - loss: 0.2144 - accuracy: 0.6632\n",
      "Epoch 200/200\n",
      "576/576 [==============================] - 0s 38us/step - loss: 0.1973 - accuracy: 0.6823\n"
     ]
    },
    {
     "data": {
      "text/plain": [
       "<keras.callbacks.callbacks.History at 0x1a4e1e80d0>"
      ]
     },
     "execution_count": 37,
     "metadata": {},
     "output_type": "execute_result"
    }
   ],
   "source": [
    "model = Sequential()\n",
    "model.add(Dense(1, input_dim = X_train.shape[1],  activation='linear'))\n",
    "model.compile(optimizer='rmsprop', loss='mse', metrics=['accuracy'])\n",
    "model.fit(X_train, y_train, nb_epoch=200)\n"
   ]
  },
  {
   "cell_type": "code",
   "execution_count": 31,
   "metadata": {
    "scrolled": true
   },
   "outputs": [
    {
     "data": {
      "text/plain": [
       "[469.26302022420003, 469.2630615234375]"
      ]
     },
     "execution_count": 31,
     "metadata": {},
     "output_type": "execute_result"
    }
   ],
   "source": [
    "loss, accuracy = model.evaluate(X_test, y_test, verbose=0)\n",
    "model.evaluate(X_test, y_test, verbose=0)\n"
   ]
  },
  {
   "cell_type": "code",
   "execution_count": 5,
   "metadata": {
    "ExecuteTime": {
     "end_time": "2019-11-05T21:10:31.439220Z",
     "start_time": "2019-11-05T21:10:22.683549Z"
    }
   },
   "outputs": [
    {
     "name": "stdout",
     "output_type": "stream",
     "text": [
      "MSE = 0.02\n"
     ]
    },
    {
     "data": {
      "text/plain": [
       "[0.01929986369823981, 0.019299864768981934]"
      ]
     },
     "execution_count": 5,
     "metadata": {},
     "output_type": "execute_result"
    }
   ],
   "source": [
    "# y_train_one_hot = np_utils.to_categorical(y_train)\n",
    "# y_test_one_hot = np_utils.to_categorical(y_test)\n",
    "\n",
    "# model = Sequential()\n",
    "# # model.add(Dense(13, input_shape=(13,), kernel_initializer='normal'))\n",
    "# model.add(Dense(51, input_shape=(13,), activation = 'linear'))\n",
    "# # model.add(Activation('linear'))\n",
    "# model.compile(optimizer='adam', loss='mse', metrics=[\"mse\"])\n",
    "# model.fit(X_train, y_train_one_hot, epochs=30, batch_size=1, verbose=0);\n",
    "# loss, accuracy = model.evaluate(X_test, y_test_one_hot, verbose=0)\n",
    "# print(\"MSE = {:.2f}\".format(accuracy))\n",
    "# model.evaluate(X_test, y_test_one_hot, verbose=0)"
   ]
  },
  {
   "cell_type": "code",
   "execution_count": 32,
   "metadata": {
    "ExecuteTime": {
     "end_time": "2019-11-05T21:29:09.999834Z",
     "start_time": "2019-11-05T21:29:09.992302Z"
    }
   },
   "outputs": [],
   "source": [
    "# NN_y_pred = model.predict(X_test)"
   ]
  },
  {
   "cell_type": "markdown",
   "metadata": {},
   "source": [
    "#### Compare NN and ML models"
   ]
  },
  {
   "cell_type": "code",
   "execution_count": 7,
   "metadata": {
    "ExecuteTime": {
     "end_time": "2019-11-05T21:33:24.690097Z",
     "start_time": "2019-11-05T21:33:24.686083Z"
    }
   },
   "outputs": [
    {
     "data": {
      "text/plain": [
       "array([[0., 0., 0., ..., 0., 0., 0.],\n",
       "       [0., 0., 0., ..., 0., 0., 0.],\n",
       "       [0., 0., 0., ..., 0., 0., 0.],\n",
       "       ...,\n",
       "       [0., 0., 0., ..., 0., 0., 0.],\n",
       "       [0., 0., 0., ..., 0., 0., 0.],\n",
       "       [0., 0., 0., ..., 0., 0., 0.]], dtype=float32)"
      ]
     },
     "execution_count": 7,
     "metadata": {},
     "output_type": "execute_result"
    }
   ],
   "source": [
    "# y_train_one_hot\n",
    "# y_test"
   ]
  },
  {
   "cell_type": "markdown",
   "metadata": {},
   "source": [
    "### Logistic Regression on Pima Diabetes Dataset"
   ]
  },
  {
   "cell_type": "markdown",
   "metadata": {},
   "source": [
    "#### Load Diabetes / Data Preparation"
   ]
  },
  {
   "cell_type": "code",
   "execution_count": 33,
   "metadata": {
    "ExecuteTime": {
     "end_time": "2019-11-05T22:58:18.857041Z",
     "start_time": "2019-11-05T22:58:18.841679Z"
    }
   },
   "outputs": [
    {
     "name": "stdout",
     "output_type": "stream",
     "text": [
      "(768, 9)\n"
     ]
    }
   ],
   "source": [
    "# Import Pida Diabetes Dataset\n",
    "diabetes = pd.read_csv('../notebooks/datasets/diabetes.csv')\n",
    "\n",
    "feature_cols = ['Pregnancies', 'Insulin', 'BMI', 'Age']\n",
    "\n",
    "X = diabetes[feature_cols]\n",
    "y = diabetes['Outcome']\n",
    "\n",
    "scaler = StandardScaler()\n",
    "# scaler = MinMaxScaler()\n",
    "X_train = scaler.fit_transform(X_train)\n",
    "X_test = scaler.transform(X_test)\n",
    "\n",
    "X_train, X_test, y_train, y_test = sklearn.model_selection.train_test_split(X, y, test_size=0.25, random_state=0)\n",
    "\n",
    "y_test.value_counts()\n",
    "print(diabetes.shape)"
   ]
  },
  {
   "cell_type": "code",
   "execution_count": 34,
   "metadata": {
    "ExecuteTime": {
     "end_time": "2019-11-05T22:58:19.273553Z",
     "start_time": "2019-11-05T22:58:19.268472Z"
    }
   },
   "outputs": [],
   "source": [
    "# Metrics function for classification (for later use)\n",
    "def metric(arr):\n",
    "    \"\"\"\n",
    "    Input: 2X2 confusion matrix\n",
    "    Outputs:  Classifier metrics\n",
    "                - Accuracy\n",
    "                - Precision\n",
    "                - Recall\n",
    "    \"\"\"\n",
    "    # Accuracy = correct / everything\n",
    "    accuracy = (arr[0][0] + arr[1][1]) / (arr[0][0] + arr[0][1] + arr[1][1] + arr[1][0])\n",
    "    \n",
    "    # Precision = true positive / (true positive + false positive)\n",
    "    precision = (arr[0][0]) / (arr[0][0] + arr[0][1])\n",
    "\n",
    "    # Recall = true positive / (true positive + false negative)\n",
    "    recall = arr[0][0] / (arr[0][0] + arr[1][0])\n",
    "    \n",
    "    return print(f' accuracy: {accuracy},\\n precision: {precision},\\n recall: {recall}')"
   ]
  },
  {
   "cell_type": "markdown",
   "metadata": {},
   "source": [
    "#### Use SciKit Learn and ML"
   ]
  },
  {
   "cell_type": "code",
   "execution_count": 35,
   "metadata": {
    "ExecuteTime": {
     "end_time": "2019-11-05T22:58:21.892639Z",
     "start_time": "2019-11-05T22:58:21.872159Z"
    }
   },
   "outputs": [],
   "source": [
    "from sklearn.linear_model import LogisticRegression\n",
    "clf = LogisticRegression(solver='lbfgs')\n",
    "# clf = LogisticRegression()\n",
    "clf.fit(X_train, y_train)\n",
    "\n",
    "y_pred = clf.predict(X_test)\n",
    "y_prob = clf.predict_proba(X_test)"
   ]
  },
  {
   "cell_type": "code",
   "execution_count": 36,
   "metadata": {
    "ExecuteTime": {
     "end_time": "2019-11-05T22:58:22.893738Z",
     "start_time": "2019-11-05T22:58:22.886487Z"
    }
   },
   "outputs": [
    {
     "name": "stdout",
     "output_type": "stream",
     "text": [
      "f1: 0.5633162142333089\n",
      "[[114  16]\n",
      " [ 46  16]]\n",
      " accuracy: 0.6770833333333334,\n",
      " precision: 0.8769230769230769,\n",
      " recall: 0.7125\n"
     ]
    }
   ],
   "source": [
    "# Observe metrics and confusion matrix for model\n",
    "\n",
    "from sklearn.metrics import confusion_matrix\n",
    "from sklearn.metrics import f1_score\n",
    "\n",
    "arr = confusion_matrix(y_test, y_pred)\n",
    "f1= f1_score(y_test, y_pred, average='macro')\n",
    "print(f'f1: {f1}')\n",
    "print(arr)\n",
    "metric(arr)"
   ]
  },
  {
   "cell_type": "markdown",
   "metadata": {},
   "source": [
    "#### LogReg Implementation using Keras/NN"
   ]
  },
  {
   "cell_type": "code",
   "execution_count": 40,
   "metadata": {
    "ExecuteTime": {
     "end_time": "2019-11-05T22:53:40.651980Z",
     "start_time": "2019-11-05T22:53:40.560177Z"
    }
   },
   "outputs": [
    {
     "name": "stdout",
     "output_type": "stream",
     "text": [
      "Epoch 1/100\n",
      "576/576 [==============================] - 1s 1ms/step - loss: 0.4167 - accuracy: 0.5729\n",
      "Epoch 2/100\n",
      "576/576 [==============================] - 0s 746us/step - loss: 0.3719 - accuracy: 0.6163\n",
      "Epoch 3/100\n",
      "576/576 [==============================] - 0s 714us/step - loss: 0.3574 - accuracy: 0.6424\n",
      "Epoch 4/100\n",
      "576/576 [==============================] - 0s 708us/step - loss: 0.3558 - accuracy: 0.6372\n",
      "Epoch 5/100\n",
      "576/576 [==============================] - 0s 694us/step - loss: 0.3861 - accuracy: 0.5990\n",
      "Epoch 6/100\n",
      "576/576 [==============================] - 0s 830us/step - loss: 0.3592 - accuracy: 0.6372\n",
      "Epoch 7/100\n",
      "576/576 [==============================] - 1s 942us/step - loss: 0.3575 - accuracy: 0.6424\n",
      "Epoch 8/100\n",
      "576/576 [==============================] - 0s 744us/step - loss: 0.3536 - accuracy: 0.6458\n",
      "Epoch 9/100\n",
      "576/576 [==============================] - 0s 711us/step - loss: 0.3529 - accuracy: 0.6372\n",
      "Epoch 10/100\n",
      "576/576 [==============================] - 0s 721us/step - loss: 0.3548 - accuracy: 0.6458\n",
      "Epoch 11/100\n",
      "576/576 [==============================] - 0s 714us/step - loss: 0.3582 - accuracy: 0.6389\n",
      "Epoch 12/100\n",
      "576/576 [==============================] - 0s 713us/step - loss: 0.3665 - accuracy: 0.6285\n",
      "Epoch 13/100\n",
      "576/576 [==============================] - 0s 709us/step - loss: 0.3504 - accuracy: 0.6476\n",
      "Epoch 14/100\n",
      "576/576 [==============================] - 0s 749us/step - loss: 0.3539 - accuracy: 0.6458\n",
      "Epoch 15/100\n",
      "576/576 [==============================] - 0s 787us/step - loss: 0.3642 - accuracy: 0.6285\n",
      "Epoch 16/100\n",
      "576/576 [==============================] - 1s 902us/step - loss: 0.3497 - accuracy: 0.6476\n",
      "Epoch 17/100\n",
      "576/576 [==============================] - 0s 729us/step - loss: 0.3567 - accuracy: 0.6389\n",
      "Epoch 18/100\n",
      "576/576 [==============================] - 0s 741us/step - loss: 0.3624 - accuracy: 0.6285\n",
      "Epoch 19/100\n",
      "576/576 [==============================] - 0s 697us/step - loss: 0.3516 - accuracy: 0.6424\n",
      "Epoch 20/100\n",
      "576/576 [==============================] - 0s 713us/step - loss: 0.3503 - accuracy: 0.6441\n",
      "Epoch 21/100\n",
      "576/576 [==============================] - 0s 760us/step - loss: 0.3685 - accuracy: 0.6233\n",
      "Epoch 22/100\n",
      "576/576 [==============================] - 1s 1ms/step - loss: 0.3564 - accuracy: 0.6354\n",
      "Epoch 23/100\n",
      "576/576 [==============================] - 1s 1ms/step - loss: 0.3566 - accuracy: 0.6372\n",
      "Epoch 24/100\n",
      "576/576 [==============================] - 0s 750us/step - loss: 0.3541 - accuracy: 0.6389\n",
      "Epoch 25/100\n",
      "576/576 [==============================] - 0s 710us/step - loss: 0.3667 - accuracy: 0.6285\n",
      "Epoch 26/100\n",
      "576/576 [==============================] - 0s 716us/step - loss: 0.3712 - accuracy: 0.6163\n",
      "Epoch 27/100\n",
      "576/576 [==============================] - 0s 718us/step - loss: 0.3592 - accuracy: 0.6354\n",
      "Epoch 28/100\n",
      "576/576 [==============================] - 0s 705us/step - loss: 0.3522 - accuracy: 0.6458\n",
      "Epoch 29/100\n",
      "576/576 [==============================] - 0s 702us/step - loss: 0.3556 - accuracy: 0.6424\n",
      "Epoch 30/100\n",
      "576/576 [==============================] - 1s 908us/step - loss: 0.3583 - accuracy: 0.6372\n",
      "Epoch 31/100\n",
      "576/576 [==============================] - 1s 1ms/step - loss: 0.3535 - accuracy: 0.6424\n",
      "Epoch 32/100\n",
      "576/576 [==============================] - 0s 855us/step - loss: 0.3581 - accuracy: 0.6406\n",
      "Epoch 33/100\n",
      "576/576 [==============================] - 0s 826us/step - loss: 0.3557 - accuracy: 0.6389\n",
      "Epoch 34/100\n",
      "576/576 [==============================] - 0s 741us/step - loss: 0.3562 - accuracy: 0.6389\n",
      "Epoch 35/100\n",
      "576/576 [==============================] - 0s 722us/step - loss: 0.3516 - accuracy: 0.6441\n",
      "Epoch 36/100\n",
      "576/576 [==============================] - 0s 708us/step - loss: 0.3517 - accuracy: 0.6476\n",
      "Epoch 37/100\n",
      "576/576 [==============================] - 0s 729us/step - loss: 0.3529 - accuracy: 0.6424\n",
      "Epoch 38/100\n",
      "576/576 [==============================] - 0s 856us/step - loss: 0.3529 - accuracy: 0.6424\n",
      "Epoch 39/100\n",
      "576/576 [==============================] - 0s 741us/step - loss: 0.3550 - accuracy: 0.6424\n",
      "Epoch 40/100\n",
      "576/576 [==============================] - 1s 875us/step - loss: 0.3536 - accuracy: 0.6441\n",
      "Epoch 41/100\n",
      "576/576 [==============================] - 0s 713us/step - loss: 0.3538 - accuracy: 0.6441\n",
      "Epoch 42/100\n",
      "576/576 [==============================] - 0s 701us/step - loss: 0.3550 - accuracy: 0.6424\n",
      "Epoch 43/100\n",
      "576/576 [==============================] - 0s 702us/step - loss: 0.3490 - accuracy: 0.6493\n",
      "Epoch 44/100\n",
      "576/576 [==============================] - 0s 713us/step - loss: 0.3591 - accuracy: 0.6389\n",
      "Epoch 45/100\n",
      "576/576 [==============================] - 0s 845us/step - loss: 0.3558 - accuracy: 0.6389\n",
      "Epoch 46/100\n",
      "576/576 [==============================] - 1s 1ms/step - loss: 0.3524 - accuracy: 0.6458\n",
      "Epoch 47/100\n",
      "576/576 [==============================] - 1s 992us/step - loss: 0.3528 - accuracy: 0.6458\n",
      "Epoch 48/100\n",
      "576/576 [==============================] - 0s 719us/step - loss: 0.3555 - accuracy: 0.6406\n",
      "Epoch 49/100\n",
      "576/576 [==============================] - 0s 715us/step - loss: 0.3560 - accuracy: 0.6424\n",
      "Epoch 50/100\n",
      "576/576 [==============================] - 1s 906us/step - loss: 0.3505 - accuracy: 0.6476\n",
      "Epoch 51/100\n",
      "576/576 [==============================] - 1s 1ms/step - loss: 0.3567 - accuracy: 0.6389\n",
      "Epoch 52/100\n",
      "576/576 [==============================] - 0s 834us/step - loss: 0.3515 - accuracy: 0.6458\n",
      "Epoch 53/100\n",
      "576/576 [==============================] - 1s 1ms/step - loss: 0.3535 - accuracy: 0.6441\n",
      "Epoch 54/100\n",
      "576/576 [==============================] - 1s 1ms/step - loss: 0.3595 - accuracy: 0.6354\n",
      "Epoch 55/100\n",
      "576/576 [==============================] - 1s 1ms/step - loss: 0.3498 - accuracy: 0.6476\n",
      "Epoch 56/100\n",
      "576/576 [==============================] - 1s 1ms/step - loss: 0.3574 - accuracy: 0.6389\n",
      "Epoch 57/100\n",
      "576/576 [==============================] - 1s 1ms/step - loss: 0.3463 - accuracy: 0.6528\n",
      "Epoch 58/100\n",
      "576/576 [==============================] - 1s 1ms/step - loss: 0.3541 - accuracy: 0.6424\n",
      "Epoch 59/100\n",
      "576/576 [==============================] - 1s 1ms/step - loss: 0.3540 - accuracy: 0.6441\n",
      "Epoch 60/100\n",
      "576/576 [==============================] - 1s 963us/step - loss: 0.3527 - accuracy: 0.6424\n",
      "Epoch 61/100\n",
      "576/576 [==============================] - 0s 833us/step - loss: 0.3546 - accuracy: 0.6441\n",
      "Epoch 62/100\n",
      "576/576 [==============================] - 0s 701us/step - loss: 0.3493 - accuracy: 0.6493\n",
      "Epoch 63/100\n",
      "576/576 [==============================] - 0s 759us/step - loss: 0.3570 - accuracy: 0.6406\n",
      "Epoch 64/100\n",
      "576/576 [==============================] - 0s 797us/step - loss: 0.3609 - accuracy: 0.6337\n",
      "Epoch 65/100\n",
      "576/576 [==============================] - 0s 748us/step - loss: 0.3558 - accuracy: 0.6424\n",
      "Epoch 66/100\n",
      "576/576 [==============================] - 1s 887us/step - loss: 0.3544 - accuracy: 0.6406\n",
      "Epoch 67/100\n",
      "576/576 [==============================] - 0s 702us/step - loss: 0.3518 - accuracy: 0.6441\n",
      "Epoch 68/100\n",
      "576/576 [==============================] - 0s 755us/step - loss: 0.3533 - accuracy: 0.6458\n",
      "Epoch 69/100\n",
      "576/576 [==============================] - 1s 908us/step - loss: 0.3517 - accuracy: 0.6424\n",
      "Epoch 70/100\n",
      "576/576 [==============================] - 0s 772us/step - loss: 0.3569 - accuracy: 0.6354\n",
      "Epoch 71/100\n",
      "576/576 [==============================] - 1s 1ms/step - loss: 0.3562 - accuracy: 0.6424\n",
      "Epoch 72/100\n",
      "576/576 [==============================] - 0s 848us/step - loss: 0.3548 - accuracy: 0.6441\n",
      "Epoch 73/100\n",
      "576/576 [==============================] - 0s 721us/step - loss: 0.3534 - accuracy: 0.6458\n",
      "Epoch 74/100\n",
      "576/576 [==============================] - 0s 751us/step - loss: 0.3543 - accuracy: 0.6424\n",
      "Epoch 75/100\n",
      "576/576 [==============================] - 0s 780us/step - loss: 0.3524 - accuracy: 0.6458\n",
      "Epoch 76/100\n",
      "576/576 [==============================] - 0s 816us/step - loss: 0.3528 - accuracy: 0.6424\n",
      "Epoch 77/100\n",
      "576/576 [==============================] - 1s 913us/step - loss: 0.3553 - accuracy: 0.6406\n",
      "Epoch 78/100\n",
      "576/576 [==============================] - 0s 826us/step - loss: 0.3545 - accuracy: 0.6424\n",
      "Epoch 79/100\n",
      "576/576 [==============================] - 0s 839us/step - loss: 0.3529 - accuracy: 0.6458\n",
      "Epoch 80/100\n"
     ]
    },
    {
     "name": "stdout",
     "output_type": "stream",
     "text": [
      "576/576 [==============================] - 0s 828us/step - loss: 0.3557 - accuracy: 0.6441\n",
      "Epoch 81/100\n",
      "576/576 [==============================] - 1s 962us/step - loss: 0.3548 - accuracy: 0.6441\n",
      "Epoch 82/100\n",
      "576/576 [==============================] - 0s 712us/step - loss: 0.3550 - accuracy: 0.6406\n",
      "Epoch 83/100\n",
      "576/576 [==============================] - 0s 734us/step - loss: 0.3550 - accuracy: 0.6441\n",
      "Epoch 84/100\n",
      "576/576 [==============================] - 0s 745us/step - loss: 0.3543 - accuracy: 0.6424\n",
      "Epoch 85/100\n",
      "576/576 [==============================] - 0s 854us/step - loss: 0.3553 - accuracy: 0.6389\n",
      "Epoch 86/100\n",
      "576/576 [==============================] - 0s 808us/step - loss: 0.3553 - accuracy: 0.6424\n",
      "Epoch 87/100\n",
      "576/576 [==============================] - 0s 770us/step - loss: 0.3523 - accuracy: 0.6389\n",
      "Epoch 88/100\n",
      "576/576 [==============================] - 0s 769us/step - loss: 0.3563 - accuracy: 0.6372\n",
      "Epoch 89/100\n",
      "576/576 [==============================] - 0s 777us/step - loss: 0.3512 - accuracy: 0.6458\n",
      "Epoch 90/100\n",
      "576/576 [==============================] - 0s 838us/step - loss: 0.3550 - accuracy: 0.6406\n",
      "Epoch 91/100\n",
      "576/576 [==============================] - 0s 763us/step - loss: 0.3526 - accuracy: 0.6458\n",
      "Epoch 92/100\n",
      "576/576 [==============================] - 0s 823us/step - loss: 0.3577 - accuracy: 0.6406\n",
      "Epoch 93/100\n",
      "576/576 [==============================] - 0s 769us/step - loss: 0.3539 - accuracy: 0.6441\n",
      "Epoch 94/100\n",
      "576/576 [==============================] - 0s 850us/step - loss: 0.3540 - accuracy: 0.6424\n",
      "Epoch 95/100\n",
      "576/576 [==============================] - 1s 1ms/step - loss: 0.3562 - accuracy: 0.6372\n",
      "Epoch 96/100\n",
      "576/576 [==============================] - 1s 931us/step - loss: 0.3514 - accuracy: 0.6458\n",
      "Epoch 97/100\n",
      "576/576 [==============================] - 1s 932us/step - loss: 0.3521 - accuracy: 0.6458\n",
      "Epoch 98/100\n",
      "576/576 [==============================] - 1s 963us/step - loss: 0.3707 - accuracy: 0.6233\n",
      "Epoch 99/100\n",
      "576/576 [==============================] - 0s 825us/step - loss: 0.3597 - accuracy: 0.6337\n",
      "Epoch 100/100\n",
      "576/576 [==============================] - 1s 1ms/step - loss: 0.3526 - accuracy: 0.6458\n"
     ]
    },
    {
     "data": {
      "text/plain": [
       "<keras.callbacks.callbacks.History at 0x1a4d7b5890>"
      ]
     },
     "execution_count": 40,
     "metadata": {},
     "output_type": "execute_result"
    }
   ],
   "source": [
    "model = Sequential()\n",
    "model.add(Dense(1, input_dim=X_train.shape[1], activation='sigmoid'))\n",
    "model.compile(optimizer='sgd', loss='mse', metrics=[\"accuracy\"])\n",
    "model.fit(X_train, y_train, epochs=100, batch_size=1)\n",
    "\n",
    "# model.add(Dense(51, input_shape=(13,), activation = 'linear'))"
   ]
  },
  {
   "cell_type": "code",
   "execution_count": 41,
   "metadata": {},
   "outputs": [
    {
     "data": {
      "text/plain": [
       "[0.29974446445703506, 0.6979166865348816]"
      ]
     },
     "execution_count": 41,
     "metadata": {},
     "output_type": "execute_result"
    }
   ],
   "source": [
    "loss, accuracy = model.evaluate(X_test, y_test, verbose=0)\n",
    "model.evaluate(X_test, y_test, verbose=0)"
   ]
  },
  {
   "cell_type": "code",
   "execution_count": null,
   "metadata": {},
   "outputs": [],
   "source": []
  }
 ],
 "metadata": {
  "kernelspec": {
   "display_name": "Python 3",
   "language": "python",
   "name": "python3"
  },
  "language_info": {
   "codemirror_mode": {
    "name": "ipython",
    "version": 3
   },
   "file_extension": ".py",
   "mimetype": "text/x-python",
   "name": "python",
   "nbconvert_exporter": "python",
   "pygments_lexer": "ipython3",
   "version": "3.7.4"
  },
  "toc": {
   "base_numbering": 1,
   "nav_menu": {},
   "number_sections": true,
   "sideBar": true,
   "skip_h1_title": false,
   "title_cell": "Table of Contents",
   "title_sidebar": "Contents",
   "toc_cell": false,
   "toc_position": {},
   "toc_section_display": true,
   "toc_window_display": false
  },
  "varInspector": {
   "cols": {
    "lenName": 16,
    "lenType": 16,
    "lenVar": 40
   },
   "kernels_config": {
    "python": {
     "delete_cmd_postfix": "",
     "delete_cmd_prefix": "del ",
     "library": "var_list.py",
     "varRefreshCmd": "print(var_dic_list())"
    },
    "r": {
     "delete_cmd_postfix": ") ",
     "delete_cmd_prefix": "rm(",
     "library": "var_list.r",
     "varRefreshCmd": "cat(var_dic_list()) "
    }
   },
   "types_to_exclude": [
    "module",
    "function",
    "builtin_function_or_method",
    "instance",
    "_Feature"
   ],
   "window_display": false
  }
 },
 "nbformat": 4,
 "nbformat_minor": 2
}
